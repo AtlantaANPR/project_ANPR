{
 "cells": [
  {
   "cell_type": "code",
   "execution_count": 1,
   "id": "40929124",
   "metadata": {},
   "outputs": [
    {
     "name": "stdout",
     "output_type": "stream",
     "text": [
      "Datasets merged successfully into: C:\\Users\\ADMIN\\Desktop\\Project_ANPR\\merge_dataset\\\n"
     ]
    }
   ],
   "source": [
    "import os\n",
    "import shutil\n",
    "\n",
    "def merge_datasets(folder1, folder2, merged_folder):\n",
    "    sets = ['train', 'valid', 'test']\n",
    "    types = ['images', 'labels']\n",
    "\n",
    "    for split in sets:\n",
    "        for data_type in types:\n",
    "            # Source paths\n",
    "            src1 = os.path.join(folder1, data_type, split)\n",
    "            src2 = os.path.join(folder2, split, data_type)\n",
    "\n",
    "            # Destination path\n",
    "            dest = os.path.join(merged_folder, data_type, split)\n",
    "            os.makedirs(dest, exist_ok=True)\n",
    "\n",
    "            # Copy files from both sources\n",
    "            for src in [src1, src2]:\n",
    "                if not os.path.exists(src):\n",
    "                    continue\n",
    "                for file_name in os.listdir(src):\n",
    "                    src_file = os.path.join(src, file_name)\n",
    "                    dest_file = os.path.join(dest, file_name)\n",
    "\n",
    "                    if os.path.exists(dest_file):\n",
    "                        base, ext = os.path.splitext(file_name)\n",
    "                        i = 1\n",
    "                        while True:\n",
    "                            new_file = f\"{base}_{i}{ext}\"\n",
    "                            dest_file = os.path.join(dest, new_file)\n",
    "                            if not os.path.exists(dest_file):\n",
    "                                break\n",
    "                            i += 1\n",
    "                    shutil.copy2(src_file, dest_file)\n",
    "\n",
    "    print(\"Datasets merged successfully into:\", merged_folder)\n",
    "\n",
    "# Example usage:\n",
    "original_data = 'C:\\\\Users\\\\ADMIN\\\\Desktop\\\\Project_ANPR\\\\LP_Detection_Dataset'   # jisme images/train, labels/train waale folder h\n",
    "self_data = 'C:\\\\Users\\\\ADMIN\\\\Desktop\\\\Project_ANPR\\\\Self_Dataset'           # jisme train/images, train/labels waale folder h\n",
    "merged_output = 'C:\\\\Users\\\\ADMIN\\\\Desktop\\\\Project_ANPR\\\\merge_dataset\\\\'   # yaha merge karke save hoga\n",
    "\n",
    "merge_datasets(original_data, self_data, merged_output)\n"
   ]
  }
 ],
 "metadata": {
  "kernelspec": {
   "display_name": "Python 3",
   "language": "python",
   "name": "python3"
  },
  "language_info": {
   "codemirror_mode": {
    "name": "ipython",
    "version": 3
   },
   "file_extension": ".py",
   "mimetype": "text/x-python",
   "name": "python",
   "nbconvert_exporter": "python",
   "pygments_lexer": "ipython3",
   "version": "3.11.0"
  }
 },
 "nbformat": 4,
 "nbformat_minor": 5
}
