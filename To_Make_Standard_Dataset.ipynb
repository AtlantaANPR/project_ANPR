{
 "cells": [
  {
   "cell_type": "code",
   "execution_count": 1,
   "id": "45ae03f1",
   "metadata": {},
   "outputs": [
    {
     "name": "stdout",
     "output_type": "stream",
     "text": [
      "✅ All label files are valid with exactly 5 values per line.\n"
     ]
    }
   ],
   "source": [
    "import os\n",
    "\n",
    "def find_and_remove_nonstandard_labels(base_dir):\n",
    "    nonstandard_entries = {}\n",
    "    total_nonstandard_files = 0\n",
    "    removed_labels = 0\n",
    "    removed_images = 0\n",
    "\n",
    "    for split in ['train', 'valid', 'test']:\n",
    "        label_dir = os.path.join(base_dir, split, 'labels')\n",
    "        image_dir = os.path.join(base_dir, split, 'images')\n",
    "\n",
    "        if not os.path.exists(label_dir):\n",
    "            continue\n",
    "\n",
    "        for filename in os.listdir(label_dir):\n",
    "            if filename.endswith('.txt'):\n",
    "                filepath = os.path.join(label_dir, filename)\n",
    "                with open(filepath, 'r') as file:\n",
    "                    lines = file.readlines()\n",
    "\n",
    "                bad_lines = []\n",
    "                for i, line in enumerate(lines):\n",
    "                    parts = line.strip().split()\n",
    "                    if len(parts) != 5:\n",
    "                        bad_lines.append((i + 1, line.strip()))\n",
    "\n",
    "                if bad_lines:\n",
    "                    total_nonstandard_files += 1\n",
    "\n",
    "                    # Guess image name\n",
    "                    base_name = os.path.splitext(filename)[0]\n",
    "                    image_name = None\n",
    "                    image_path = None\n",
    "                    for ext in ['.jpg', '.png', '.jpeg']:\n",
    "                        potential_image_path = os.path.join(image_dir, base_name + ext)\n",
    "                        if os.path.exists(potential_image_path):\n",
    "                            image_name = base_name + ext\n",
    "                            image_path = potential_image_path\n",
    "                            break\n",
    "\n",
    "                    # Save entry\n",
    "                    nonstandard_entries[f\"{split}/labels/{filename}\"] = {\n",
    "                        \"image\": image_name or \"Image not found\",\n",
    "                        \"issues\": bad_lines\n",
    "                    }\n",
    "\n",
    "                    # 🗑️ Remove label file\n",
    "                    os.remove(filepath)\n",
    "                    removed_labels += 1\n",
    "\n",
    "                    # 🗑️ Remove image file if found\n",
    "                    if image_path:\n",
    "                        os.remove(image_path)\n",
    "                        removed_images += 1\n",
    "\n",
    "    return nonstandard_entries, total_nonstandard_files, removed_labels, removed_images\n",
    "\n",
    "# Dataset root\n",
    "dataset_root = r\"C:\\\\Users\\\\ADMIN\\\\Desktop\\\\Project_ANPR\\\\Plate_Detection_Dataset\"\n",
    "\n",
    "# Run and clean\n",
    "nonstandard_labels, total, deleted_labels, deleted_images = find_and_remove_nonstandard_labels(dataset_root)\n",
    "\n",
    "# Output\n",
    "if nonstandard_labels:\n",
    "    print(f\"⚠️ Found {total} label files with non-standard YOLO lines.\")\n",
    "    print(f\"🗑️ Removed {deleted_labels} label files and {deleted_images} image files.\\n\")\n",
    "\n",
    "    for label_file, info in nonstandard_labels.items():\n",
    "        print(f\"Label File: {label_file}\")\n",
    "        print(f\"Image File: {info['image']}\")\n",
    "        for line_no, content in info['issues']:\n",
    "            print(f\"  Line {line_no}: {content}\")\n",
    "        print()\n",
    "else:\n",
    "    print(\"✅ All label files are valid with exactly 5 values per line.\")\n"
   ]
  }
 ],
 "metadata": {
  "kernelspec": {
   "display_name": "Python 3",
   "language": "python",
   "name": "python3"
  },
  "language_info": {
   "codemirror_mode": {
    "name": "ipython",
    "version": 3
   },
   "file_extension": ".py",
   "mimetype": "text/x-python",
   "name": "python",
   "nbconvert_exporter": "python",
   "pygments_lexer": "ipython3",
   "version": "3.11.0"
  }
 },
 "nbformat": 4,
 "nbformat_minor": 5
}
